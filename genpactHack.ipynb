{
 "cells": [
  {
   "cell_type": "code",
   "execution_count": 1,
   "metadata": {},
   "outputs": [],
   "source": [
    "import pandas as pd\n",
    "from matplotlib import pyplot as plt\n",
    "import numpy as np\n",
    "from sklearn.preprocessing import LabelEncoder\n",
    "import xgboost as xgb\n",
    "from sklearn.model_selection import  train_test_split\n",
    "import time\n",
    "import lightgbm as lgbm\n",
    "from sklearn.metrics import mean_squared_error"
   ]
  },
  {
   "cell_type": "code",
   "execution_count": 2,
   "metadata": {},
   "outputs": [],
   "source": [
    "center_df = pd.read_csv(\"../fulfilment_center_info.csv\", dtype={'center_id':int})\n",
    "meal_df = pd.read_csv(\"../meal_info.csv\", dtype={'meal_id':int})\n",
    "train = pd.read_csv(\"../train.csv\", dtype={'week':int, 'meal_id':int, 'center_id':int})"
   ]
  },
  {
   "cell_type": "code",
   "execution_count": 3,
   "metadata": {},
   "outputs": [],
   "source": [
    "train = pd.merge(train, meal_df, on='meal_id', how='inner')\n",
    "train = pd.merge(train, center_df, on='center_id', how='inner')"
   ]
  },
  {
   "cell_type": "code",
   "execution_count": 4,
   "metadata": {},
   "outputs": [],
   "source": [
    "test = pd.read_csv(\"../test_QoiMO9B.csv\", dtype={'week':int, 'meal_id':int, 'center_id':int})\n",
    "test = pd.merge(test, meal_df, on='meal_id', how='inner')\n",
    "test = pd.merge(test, center_df, on='center_id', how='inner')"
   ]
  },
  {
   "cell_type": "code",
   "execution_count": 5,
   "metadata": {},
   "outputs": [],
   "source": [
    "train['train_or_test'] = 'train'\n",
    "test['train_or_test'] = 'test'\n",
    "df = pd.concat([train,test], sort=False)"
   ]
  },
  {
   "cell_type": "code",
   "execution_count": 6,
   "metadata": {},
   "outputs": [],
   "source": [
    "# One hot encoder for categorical features\n",
    "def ohe(df, colname):\n",
    "    return pd.concat([df,pd.get_dummies(df[colname])], axis=1)\n",
    "\n",
    "# Assign year based on week number: Note: Approx\n",
    "def assign_approx_month(x, month=True):\n",
    "    if x <= 52:\n",
    "        year = 2014 \n",
    "    elif 52 < x < 104:\n",
    "        year = 2015\n",
    "    else:\n",
    "        year = 2016\n",
    "    \n",
    "    atime = time.asctime(time.strptime('{} {} 1'.format(year, x%52), '%Y %W %w'))\n",
    "    if month:\n",
    "        return atime.split(\" \")[1]\n",
    "\n",
    "# Assign year from week number: EDA shows yearly trends slowly decreasing\n",
    "def assign_approx_year(x):\n",
    "    if x <= 52:\n",
    "        x = 1\n",
    "    elif 52 < x <= 104:\n",
    "        x = 2\n",
    "    else:\n",
    "        x = 3\n",
    "    return x\n",
    "\n",
    "# Important to add combinations of statistical features using historical data\n",
    "def add_group_features(df, group_by, target, funcs=None):\n",
    "    if funcs is None:\n",
    "        funcs = [np.mean, np.median, np.max, np.min, np.std]\n",
    "    table = df.groupby(group_by)[target].agg(funcs)\n",
    "    for col in table.columns.tolist():\n",
    "        table.fillna(table[col].mean(), inplace=True)\n",
    "    return table\n",
    "\n",
    "def add_lags_column(df, group_by, target_col, lags=[2,4,6]):\n",
    "    lag_table = df.groupby(group_by)\n",
    "    for i in lags:\n",
    "        df['_'.join([target_col, 'lag', str(i)])] = \\\n",
    "                lag_table[target_col].shift(i).values + np.random.normal(scale=1.6, size=(len(df),))\n",
    "    return df\n",
    "\n",
    "def add_ewm_feats(df, group_by, target_col, alpha=[0.9], shift=[2,4,6]):\n",
    "    gpby = df.groupby(group_by)\n",
    "    for a in alpha:\n",
    "        for s in shift:\n",
    "            df['_'.join([target_col, 'lag', str(s), 'ewm', str(a)])] = \\\n",
    "                gpby[target_col].shift(s).ewm(alpha=a).mean().values\n",
    "    return df\n",
    "\n",
    "def add_rmean_feats(df, group_by, target_col, windows=[2,4,6], min_periods=0, \n",
    "                             shift=1, win_type=None):\n",
    "    gpby = df.groupby(group_by)\n",
    "    for w in windows:\n",
    "        df['_'.join([target_col, 'rmean', str(w)])] = \\\n",
    "            gpby[target_col].shift(shift).rolling(window=w, \n",
    "                                                  min_periods=min_periods,\n",
    "                                                  win_type=win_type).mean().values +\\\n",
    "            np.random.normal(scale=1.6, size=(len(df),))\n",
    "    return df"
   ]
  },
  {
   "cell_type": "code",
   "execution_count": 7,
   "metadata": {},
   "outputs": [],
   "source": [
    "week_of_month = {}\n",
    "for k in range(1,160):\n",
    "    week_of_month[k] = str((k%4))+\"_wom\" if k%4 > 0 else \"4_wom\"\n",
    "# Add week of month approx\n",
    "df['wom'] = df['week'].map(week_of_month)\n",
    "\n",
    "# Add month begin/end identifiers as features\n",
    "df['is_month_start'] = df['wom'].apply(lambda x: 1 if x == \"1_wom\" else 0)\n",
    "df['is_month_end'] = df['wom'].apply(lambda x: 1 if x == \"4_wom\" else 0)\n",
    "df['year'] = df['week'].apply(lambda x: assign_approx_year(x))\n",
    "df['month'] = df['week'].apply(lambda x: assign_approx_month(x))\n",
    "df['offer'] = 0\n",
    "df.loc[(df['emailer_for_promotion']==1) & (df['homepage_featured']==1), 'offer'] = 1\n",
    "df['diff'] = df['base_price'] - df['checkout_price']\n",
    "#df.loc[df['diff'] < 0, 'diff'] *= -1"
   ]
  },
  {
   "cell_type": "code",
   "execution_count": 8,
   "metadata": {},
   "outputs": [
    {
     "name": "stdout",
     "output_type": "stream",
     "text": [
      "Train shape: (407243, 23)\n",
      "hold out shape: (49305, 23)\n",
      "Test shape: (32573, 23)\n"
     ]
    }
   ],
   "source": [
    "masked_series2 = ((df['train_or_test'] != 'test') & (df['year']==3) & (df['month'].isin(['Jul', 'Aug', 'Sep', 'Oct'])))\n",
    "df.loc[(masked_series2), 'train_or_test'] = 'hold_out'\n",
    "print('Train shape: {}'.format(df.loc[df.train_or_test=='train',:].shape))\n",
    "print('hold out shape: {}'.format(df.loc[df.train_or_test=='hold_out',:].shape))\n",
    "print('Test shape: {}'.format(df.loc[df.train_or_test=='test',:].shape))"
   ]
  },
  {
   "cell_type": "code",
   "execution_count": 9,
   "metadata": {},
   "outputs": [],
   "source": [
    "for col in ['cuisine', 'category', 'region_code', 'center_type', 'city_code', 'month', 'wom', 'year']:\n",
    "    df[col] = df[col].astype(str)\n",
    "    df = ohe(df, col)"
   ]
  },
  {
   "cell_type": "code",
   "execution_count": 10,
   "metadata": {},
   "outputs": [],
   "source": [
    "df.drop(['cuisine', 'category', 'region_code', 'center_type', 'city_code', 'month', 'wom', 'year'], axis=1, inplace=True)"
   ]
  },
  {
   "cell_type": "code",
   "execution_count": 11,
   "metadata": {
    "scrolled": true
   },
   "outputs": [
    {
     "data": {
      "text/plain": [
       "train       407243\n",
       "hold_out     49305\n",
       "test         32573\n",
       "Name: train_or_test, dtype: int64"
      ]
     },
     "execution_count": 11,
     "metadata": {},
     "output_type": "execute_result"
    }
   ],
   "source": [
    "df['train_or_test'].value_counts()"
   ]
  },
  {
   "cell_type": "code",
   "execution_count": 12,
   "metadata": {},
   "outputs": [
    {
     "name": "stderr",
     "output_type": "stream",
     "text": [
      "/usr/local/lib/python2.7/dist-packages/ipykernel_launcher.py:2: SettingWithCopyWarning: \n",
      "A value is trying to be set on a copy of a slice from a DataFrame.\n",
      "Try using .loc[row_indexer,col_indexer] = value instead\n",
      "\n",
      "See the caveats in the documentation: http://pandas.pydata.org/pandas-docs/stable/indexing.html#indexing-view-versus-copy\n",
      "  \n"
     ]
    }
   ],
   "source": [
    "train = df[df['train_or_test'].isin(['train', 'hold_out'])]\n",
    "train['num_orders'] = np.log1p(train.num_orders.values)\n",
    "center_meal_stat = add_group_features(train,['center_id', 'meal_id'], target='num_orders')\n",
    "train = pd.merge(train, center_meal_stat, how='left', on=['center_id', 'meal_id'])\n",
    "val = train[train['train_or_test']=='hold_out']\n",
    "train = train[train['train_or_test']=='train']\n",
    "test = df[df['train_or_test']=='test']\n",
    "test = pd.merge(test, center_meal_stat, how='left', on=['center_id', 'meal_id'])"
   ]
  },
  {
   "cell_type": "code",
   "execution_count": 13,
   "metadata": {},
   "outputs": [
    {
     "data": {
      "text/html": [
       "<div>\n",
       "<style scoped>\n",
       "    .dataframe tbody tr th:only-of-type {\n",
       "        vertical-align: middle;\n",
       "    }\n",
       "\n",
       "    .dataframe tbody tr th {\n",
       "        vertical-align: top;\n",
       "    }\n",
       "\n",
       "    .dataframe thead th {\n",
       "        text-align: right;\n",
       "    }\n",
       "</style>\n",
       "<table border=\"1\" class=\"dataframe\">\n",
       "  <thead>\n",
       "    <tr style=\"text-align: right;\">\n",
       "      <th></th>\n",
       "      <th>id</th>\n",
       "      <th>week</th>\n",
       "      <th>center_id</th>\n",
       "      <th>meal_id</th>\n",
       "      <th>checkout_price</th>\n",
       "      <th>base_price</th>\n",
       "      <th>emailer_for_promotion</th>\n",
       "      <th>homepage_featured</th>\n",
       "      <th>num_orders</th>\n",
       "      <th>op_area</th>\n",
       "      <th>...</th>\n",
       "      <th>3_wom</th>\n",
       "      <th>4_wom</th>\n",
       "      <th>1</th>\n",
       "      <th>2</th>\n",
       "      <th>3</th>\n",
       "      <th>mean</th>\n",
       "      <th>median</th>\n",
       "      <th>amax</th>\n",
       "      <th>amin</th>\n",
       "      <th>std</th>\n",
       "    </tr>\n",
       "  </thead>\n",
       "  <tbody>\n",
       "    <tr>\n",
       "      <th>130</th>\n",
       "      <td>1197045</td>\n",
       "      <td>131</td>\n",
       "      <td>55</td>\n",
       "      <td>1885</td>\n",
       "      <td>149.44</td>\n",
       "      <td>149.44</td>\n",
       "      <td>0</td>\n",
       "      <td>0</td>\n",
       "      <td>5.093750</td>\n",
       "      <td>2.0</td>\n",
       "      <td>...</td>\n",
       "      <td>1</td>\n",
       "      <td>0</td>\n",
       "      <td>0</td>\n",
       "      <td>0</td>\n",
       "      <td>1</td>\n",
       "      <td>5.313284</td>\n",
       "      <td>5.375278</td>\n",
       "      <td>6.663133</td>\n",
       "      <td>3.713572</td>\n",
       "      <td>0.53191</td>\n",
       "    </tr>\n",
       "    <tr>\n",
       "      <th>131</th>\n",
       "      <td>1322745</td>\n",
       "      <td>132</td>\n",
       "      <td>55</td>\n",
       "      <td>1885</td>\n",
       "      <td>151.35</td>\n",
       "      <td>152.35</td>\n",
       "      <td>0</td>\n",
       "      <td>0</td>\n",
       "      <td>5.093750</td>\n",
       "      <td>2.0</td>\n",
       "      <td>...</td>\n",
       "      <td>0</td>\n",
       "      <td>1</td>\n",
       "      <td>0</td>\n",
       "      <td>0</td>\n",
       "      <td>1</td>\n",
       "      <td>5.313284</td>\n",
       "      <td>5.375278</td>\n",
       "      <td>6.663133</td>\n",
       "      <td>3.713572</td>\n",
       "      <td>0.53191</td>\n",
       "    </tr>\n",
       "    <tr>\n",
       "      <th>132</th>\n",
       "      <td>1375869</td>\n",
       "      <td>133</td>\n",
       "      <td>55</td>\n",
       "      <td>1885</td>\n",
       "      <td>148.41</td>\n",
       "      <td>148.41</td>\n",
       "      <td>0</td>\n",
       "      <td>0</td>\n",
       "      <td>4.812184</td>\n",
       "      <td>2.0</td>\n",
       "      <td>...</td>\n",
       "      <td>0</td>\n",
       "      <td>0</td>\n",
       "      <td>0</td>\n",
       "      <td>0</td>\n",
       "      <td>1</td>\n",
       "      <td>5.313284</td>\n",
       "      <td>5.375278</td>\n",
       "      <td>6.663133</td>\n",
       "      <td>3.713572</td>\n",
       "      <td>0.53191</td>\n",
       "    </tr>\n",
       "    <tr>\n",
       "      <th>133</th>\n",
       "      <td>1112450</td>\n",
       "      <td>134</td>\n",
       "      <td>55</td>\n",
       "      <td>1885</td>\n",
       "      <td>151.35</td>\n",
       "      <td>150.35</td>\n",
       "      <td>0</td>\n",
       "      <td>0</td>\n",
       "      <td>4.418841</td>\n",
       "      <td>2.0</td>\n",
       "      <td>...</td>\n",
       "      <td>0</td>\n",
       "      <td>0</td>\n",
       "      <td>0</td>\n",
       "      <td>0</td>\n",
       "      <td>1</td>\n",
       "      <td>5.313284</td>\n",
       "      <td>5.375278</td>\n",
       "      <td>6.663133</td>\n",
       "      <td>3.713572</td>\n",
       "      <td>0.53191</td>\n",
       "    </tr>\n",
       "    <tr>\n",
       "      <th>134</th>\n",
       "      <td>1455692</td>\n",
       "      <td>135</td>\n",
       "      <td>55</td>\n",
       "      <td>1885</td>\n",
       "      <td>150.41</td>\n",
       "      <td>149.41</td>\n",
       "      <td>0</td>\n",
       "      <td>0</td>\n",
       "      <td>5.379897</td>\n",
       "      <td>2.0</td>\n",
       "      <td>...</td>\n",
       "      <td>1</td>\n",
       "      <td>0</td>\n",
       "      <td>0</td>\n",
       "      <td>0</td>\n",
       "      <td>1</td>\n",
       "      <td>5.313284</td>\n",
       "      <td>5.375278</td>\n",
       "      <td>6.663133</td>\n",
       "      <td>3.713572</td>\n",
       "      <td>0.53191</td>\n",
       "    </tr>\n",
       "  </tbody>\n",
       "</table>\n",
       "<p>5 rows × 119 columns</p>\n",
       "</div>"
      ],
      "text/plain": [
       "          id  week  center_id  meal_id  checkout_price  base_price  \\\n",
       "130  1197045   131         55     1885          149.44      149.44   \n",
       "131  1322745   132         55     1885          151.35      152.35   \n",
       "132  1375869   133         55     1885          148.41      148.41   \n",
       "133  1112450   134         55     1885          151.35      150.35   \n",
       "134  1455692   135         55     1885          150.41      149.41   \n",
       "\n",
       "     emailer_for_promotion  homepage_featured  num_orders  op_area   ...     \\\n",
       "130                      0                  0    5.093750      2.0   ...      \n",
       "131                      0                  0    5.093750      2.0   ...      \n",
       "132                      0                  0    4.812184      2.0   ...      \n",
       "133                      0                  0    4.418841      2.0   ...      \n",
       "134                      0                  0    5.379897      2.0   ...      \n",
       "\n",
       "    3_wom  4_wom  1  2  3      mean    median      amax      amin      std  \n",
       "130     1      0  0  0  1  5.313284  5.375278  6.663133  3.713572  0.53191  \n",
       "131     0      1  0  0  1  5.313284  5.375278  6.663133  3.713572  0.53191  \n",
       "132     0      0  0  0  1  5.313284  5.375278  6.663133  3.713572  0.53191  \n",
       "133     0      0  0  0  1  5.313284  5.375278  6.663133  3.713572  0.53191  \n",
       "134     1      0  0  0  1  5.313284  5.375278  6.663133  3.713572  0.53191  \n",
       "\n",
       "[5 rows x 119 columns]"
      ]
     },
     "execution_count": 13,
     "metadata": {},
     "output_type": "execute_result"
    }
   ],
   "source": [
    "val.head()"
   ]
  },
  {
   "cell_type": "code",
   "execution_count": 14,
   "metadata": {},
   "outputs": [],
   "source": [
    "avoid_cols = ['id', 'num_orders', 'train_or_test', 'id', 'year', 'center_id', 'meal_id', 'week']\n",
    "cols = [col for col in train.columns if col not in avoid_cols]\n",
    "target = 'num_orders'"
   ]
  },
  {
   "cell_type": "code",
   "execution_count": 15,
   "metadata": {},
   "outputs": [],
   "source": [
    "lgb_params = {'task':'train', 'boosting_type':'gbdt', 'objective':'regression', \n",
    "              'metric': {'rmse'}, 'num_leaves': 10, 'learning_rate': 0.1, \n",
    "              'feature_fraction': 0.8, 'max_depth': 5, 'verbose': 0, \n",
    "              'num_boost_round':10000, 'nthread':-1, 'early_stopping_rounds':50}"
   ]
  },
  {
   "cell_type": "code",
   "execution_count": 16,
   "metadata": {},
   "outputs": [],
   "source": [
    "lgbtrain = lgbm.Dataset(data=train[cols], label=train[target].values, \n",
    "                       feature_name=cols)\n",
    "lgbval = lgbm.Dataset(data=val[cols], label=val[target].values, \n",
    "                     reference=lgbtrain, feature_name=cols)"
   ]
  },
  {
   "cell_type": "code",
   "execution_count": 17,
   "metadata": {},
   "outputs": [],
   "source": [
    "def lgb_validation(params, lgbtrain, lgbval, X_val, Y_val):\n",
    "    t0 = time.time()\n",
    "    evals_result = {}\n",
    "    model = lgbm.train(params, lgbtrain, num_boost_round=params['num_boost_round'], \n",
    "                      valid_sets=[lgbtrain, lgbval], \n",
    "                      early_stopping_rounds=params['early_stopping_rounds'], verbose_eval=500)\n",
    "    print(model.best_iteration)\n",
    "    print('Total time taken to build the model: ', (time.time()-t0)/60, 'minutes!!')\n",
    "    pred_Y_val = model.predict(X_val, num_iteration=model.best_iteration)\n",
    "    print('RMSE for validation data is:{}'.format(np.sqrt(mean_squared_error(pred_Y_val, Y_val))))\n",
    "    # pred_Y_val = np.expm1(pred_Y_val)\n",
    "    # Y_val = np.expm1(Y_val)\n",
    "    val_df = pd.DataFrame(columns=['true_Y_val','pred_Y_val'])\n",
    "    val_df['pred_Y_val'] = pred_Y_val\n",
    "    val_df['true_Y_val'] = Y_val\n",
    "    print(val_df.shape)\n",
    "    print(val_df.sample(5))\n",
    "    \n",
    "    return model, val_df"
   ]
  },
  {
   "cell_type": "code",
   "execution_count": 18,
   "metadata": {},
   "outputs": [
    {
     "name": "stderr",
     "output_type": "stream",
     "text": [
      "/usr/local/lib/python2.7/dist-packages/lightgbm/engine.py:116: UserWarning: Found `num_boost_round` in params. Will use it instead of argument\n",
      "  warnings.warn(\"Found `{}` in params. Will use it instead of argument\".format(alias))\n",
      "/usr/local/lib/python2.7/dist-packages/lightgbm/engine.py:121: UserWarning: Found `early_stopping_rounds` in params. Will use it instead of argument\n",
      "  warnings.warn(\"Found `{}` in params. Will use it instead of argument\".format(alias))\n"
     ]
    },
    {
     "name": "stdout",
     "output_type": "stream",
     "text": [
      "Training until validation scores don't improve for 50 rounds.\n",
      "[500]\ttraining's rmse: 0.471231\tvalid_1's rmse: 0.508245\n",
      "Early stopping, best iteration is:\n",
      "[548]\ttraining's rmse: 0.469992\tvalid_1's rmse: 0.507939\n",
      "548\n",
      "('Total time taken to build the model: ', 0.17257219950358074, 'minutes!!')\n",
      "RMSE for validation data is:0.507939159138\n",
      "(49305, 2)\n",
      "       true_Y_val  pred_Y_val\n",
      "9785     5.743003    5.420583\n",
      "17000    6.070738    6.354754\n",
      "48319    5.902633    5.694752\n",
      "45161    5.313206    5.527860\n",
      "7258     5.693732    6.427960\n"
     ]
    }
   ],
   "source": [
    "model, val_df = lgb_validation(lgb_params, lgbtrain, lgbval, val.loc[:,cols].values, val[target].values)"
   ]
  },
  {
   "cell_type": "code",
   "execution_count": 20,
   "metadata": {},
   "outputs": [
    {
     "name": "stderr",
     "output_type": "stream",
     "text": [
      "/usr/local/lib/python2.7/dist-packages/ipykernel_launcher.py:2: SettingWithCopyWarning: \n",
      "A value is trying to be set on a copy of a slice from a DataFrame.\n",
      "Try using .loc[row_indexer,col_indexer] = value instead\n",
      "\n",
      "See the caveats in the documentation: http://pandas.pydata.org/pandas-docs/stable/indexing.html#indexing-view-versus-copy\n",
      "  \n"
     ]
    }
   ],
   "source": [
    "train_full = df[df['train_or_test'].isin(['train','hold_out'])]\n",
    "train_full['num_orders'] = np.log1p(train_full.num_orders.values)\n",
    "center_meal_stat = add_group_features(train_full,['center_id', 'meal_id'], target='num_orders')\n",
    "train_full = pd.merge(train_full, center_meal_stat, how='left', on=['center_id', 'meal_id'])"
   ]
  },
  {
   "cell_type": "code",
   "execution_count": 21,
   "metadata": {},
   "outputs": [],
   "source": [
    "lgb_params = {'task':'train', 'boosting_type':'gbdt', 'objective':'regression', \n",
    "              'metric': {'rmse'}, 'num_leaves': 10, 'learning_rate': 0.1, \n",
    "              'feature_fraction': 0.8, 'max_depth': 5, 'verbose': 0, \n",
    "              'num_boost_round':548, 'nthread':-1}\n",
    "lgbtrain = lgbm.Dataset(data=train_full[cols], label=train_full[target].values, \n",
    "                       feature_name=cols)\n",
    "model = lgbm.train(lgb_params, lgbtrain)"
   ]
  },
  {
   "cell_type": "code",
   "execution_count": 22,
   "metadata": {},
   "outputs": [
    {
     "name": "stderr",
     "output_type": "stream",
     "text": [
      "/usr/local/lib/python2.7/dist-packages/ipykernel_launcher.py:4: SettingWithCopyWarning: \n",
      "A value is trying to be set on a copy of a slice from a DataFrame.\n",
      "Try using .loc[row_indexer,col_indexer] = value instead\n",
      "\n",
      "See the caveats in the documentation: http://pandas.pydata.org/pandas-docs/stable/indexing.html#indexing-view-versus-copy\n",
      "  after removing the cwd from sys.path.\n"
     ]
    }
   ],
   "source": [
    "y_pred = model.predict(test[cols])\n",
    "y_pred = np.expm1(y_pred)\n",
    "submission = test[['id']]\n",
    "submission['num_orders'] = y_pred"
   ]
  },
  {
   "cell_type": "code",
   "execution_count": 24,
   "metadata": {},
   "outputs": [
    {
     "data": {
      "text/plain": [
       "0    173.217371\n",
       "1    170.932290\n",
       "2    168.665027\n",
       "3    170.601390\n",
       "4    166.814995\n",
       "Name: num_orders, dtype: float64"
      ]
     },
     "execution_count": 24,
     "metadata": {},
     "output_type": "execute_result"
    }
   ],
   "source": [
    "submission['num_orders'].head()"
   ]
  },
  {
   "cell_type": "code",
   "execution_count": 25,
   "metadata": {},
   "outputs": [],
   "source": [
    "submission.to_csv(\"lgbm_jun_sep_valid_0.495_locl_cv.csv\", index=False)"
   ]
  },
  {
   "cell_type": "code",
   "execution_count": 26,
   "metadata": {},
   "outputs": [
    {
     "name": "stdout",
     "output_type": "stream",
     "text": [
      "[16:16:37] Tree method is selected to be 'approx'\n",
      "[0]\ttrain-rmse:3.66398\tvalid-rmse:3.61947\n",
      "Multiple eval metrics have been passed: 'valid-rmse' will be used for early stopping.\n",
      "\n",
      "Will train until valid-rmse hasn't improved in 10 rounds.\n",
      "[50]\ttrain-rmse:0.505903\tvalid-rmse:0.528124\n",
      "[100]\ttrain-rmse:0.494725\tvalid-rmse:0.519407\n",
      "[150]\ttrain-rmse:0.489298\tvalid-rmse:0.515381\n",
      "Stopping. Best iteration:\n",
      "[161]\ttrain-rmse:0.487967\tvalid-rmse:0.514244\n",
      "\n"
     ]
    }
   ],
   "source": [
    "ntrees = 250\n",
    "early_stop = 10\n",
    "verbose_eval = 50\n",
    "params = {\n",
    "    'objective': 'reg:linear',\n",
    "    'eval_metric': ['rmse'],\n",
    "    'eta': 0.2,\n",
    "    'max_depth': 3,\n",
    "    'subsample': 0.8,\n",
    "    'colsample_bytree': 0.8,\n",
    "    'reg_alpha': 0.005,\n",
    "    'silent': True,\n",
    "    'random_state': 42424,\n",
    "    'tree_method': 'approx',\n",
    "}\n",
    "dtrain = xgb.DMatrix(train[cols], train[target].values)\n",
    "dval = xgb.DMatrix(val[cols], val[target].values)\n",
    "watchlist = [(dtrain, 'train'), (dval, 'valid')]\n",
    "    \n",
    "xgb_model = xgb.train(params, dtrain, ntrees, watchlist, maximize=False,\n",
    "                      verbose_eval=verbose_eval,\n",
    "                      early_stopping_rounds=early_stop)"
   ]
  },
  {
   "cell_type": "code",
   "execution_count": null,
   "metadata": {},
   "outputs": [],
   "source": [
    "ntrees = \n",
    "params = {\n",
    "    'objective': 'reg:linear',\n",
    "    'eval_metric': ['rmse'],\n",
    "    'eta': 0.02,\n",
    "    'max_depth': 3,\n",
    "    'min_child_weight': 3,\n",
    "    'subsample': 0.8,\n",
    "    'colsample_bytree': 0.8,\n",
    "    'reg_alpha': 0.005,\n",
    "    'silent': True,\n",
    "    'random_state': 42424,\n",
    "    'tree_method': 'approx',\n",
    "    'max_delta_step': 1\n",
    "}\n",
    "dtrain = xgb.DMatrix(train_full[cols], train_full[target].values)\n",
    "xgb_model = xgb.train(params, dtrain, ntrees, maximize=False)"
   ]
  },
  {
   "cell_type": "code",
   "execution_count": 27,
   "metadata": {},
   "outputs": [],
   "source": [
    "y_pred2 = xgb_model.predict(xgb.DMatrix(test[cols]))"
   ]
  },
  {
   "cell_type": "code",
   "execution_count": 28,
   "metadata": {},
   "outputs": [],
   "source": [
    "y_pred2 = np.expm1(y_pred2)"
   ]
  },
  {
   "cell_type": "code",
   "execution_count": 29,
   "metadata": {},
   "outputs": [
    {
     "name": "stderr",
     "output_type": "stream",
     "text": [
      "/usr/local/lib/python2.7/dist-packages/ipykernel_launcher.py:2: SettingWithCopyWarning: \n",
      "A value is trying to be set on a copy of a slice from a DataFrame.\n",
      "Try using .loc[row_indexer,col_indexer] = value instead\n",
      "\n",
      "See the caveats in the documentation: http://pandas.pydata.org/pandas-docs/stable/indexing.html#indexing-view-versus-copy\n",
      "  \n"
     ]
    }
   ],
   "source": [
    "submission2 = test[['id']]\n",
    "submission2['num_orders'] =y_pred2"
   ]
  },
  {
   "cell_type": "code",
   "execution_count": 30,
   "metadata": {},
   "outputs": [
    {
     "data": {
      "text/plain": [
       "240.49716"
      ]
     },
     "execution_count": 30,
     "metadata": {},
     "output_type": "execute_result"
    }
   ],
   "source": [
    "submission2['num_orders'].mean()"
   ]
  },
  {
   "cell_type": "code",
   "execution_count": 31,
   "metadata": {},
   "outputs": [
    {
     "name": "stderr",
     "output_type": "stream",
     "text": [
      "/usr/local/lib/python2.7/dist-packages/ipykernel_launcher.py:1: SettingWithCopyWarning: \n",
      "A value is trying to be set on a copy of a slice from a DataFrame.\n",
      "Try using .loc[row_indexer,col_indexer] = value instead\n",
      "\n",
      "See the caveats in the documentation: http://pandas.pydata.org/pandas-docs/stable/indexing.html#indexing-view-versus-copy\n",
      "  \"\"\"Entry point for launching an IPython kernel.\n"
     ]
    }
   ],
   "source": [
    "submission['num_orders'] = (0.7*submission['num_orders']) + (0.3*submission2['num_orders'])"
   ]
  },
  {
   "cell_type": "code",
   "execution_count": 32,
   "metadata": {},
   "outputs": [
    {
     "name": "stderr",
     "output_type": "stream",
     "text": [
      "/usr/local/lib/python2.7/dist-packages/ipykernel_launcher.py:1: SettingWithCopyWarning: \n",
      "A value is trying to be set on a copy of a slice from a DataFrame.\n",
      "Try using .loc[row_indexer,col_indexer] = value instead\n",
      "\n",
      "See the caveats in the documentation: http://pandas.pydata.org/pandas-docs/stable/indexing.html#indexing-view-versus-copy\n",
      "  \"\"\"Entry point for launching an IPython kernel.\n"
     ]
    }
   ],
   "source": [
    "submission['num_orders'] = submission['num_orders'].round()"
   ]
  },
  {
   "cell_type": "code",
   "execution_count": 33,
   "metadata": {},
   "outputs": [],
   "source": [
    "submission.to_csv(\"lgb_xgb_0.6_0.4_rounded_sub_v7.csv\", index=False, header=True)"
   ]
  },
  {
   "cell_type": "code",
   "execution_count": 34,
   "metadata": {},
   "outputs": [
    {
     "data": {
      "text/html": [
       "<div>\n",
       "<style scoped>\n",
       "    .dataframe tbody tr th:only-of-type {\n",
       "        vertical-align: middle;\n",
       "    }\n",
       "\n",
       "    .dataframe tbody tr th {\n",
       "        vertical-align: top;\n",
       "    }\n",
       "\n",
       "    .dataframe thead th {\n",
       "        text-align: right;\n",
       "    }\n",
       "</style>\n",
       "<table border=\"1\" class=\"dataframe\">\n",
       "  <thead>\n",
       "    <tr style=\"text-align: right;\">\n",
       "      <th></th>\n",
       "      <th>id</th>\n",
       "      <th>num_orders</th>\n",
       "    </tr>\n",
       "  </thead>\n",
       "  <tbody>\n",
       "    <tr>\n",
       "      <th>0</th>\n",
       "      <td>1028232</td>\n",
       "      <td>175.0</td>\n",
       "    </tr>\n",
       "    <tr>\n",
       "      <th>1</th>\n",
       "      <td>1262649</td>\n",
       "      <td>174.0</td>\n",
       "    </tr>\n",
       "    <tr>\n",
       "      <th>2</th>\n",
       "      <td>1453211</td>\n",
       "      <td>173.0</td>\n",
       "    </tr>\n",
       "    <tr>\n",
       "      <th>3</th>\n",
       "      <td>1262599</td>\n",
       "      <td>174.0</td>\n",
       "    </tr>\n",
       "    <tr>\n",
       "      <th>4</th>\n",
       "      <td>1495848</td>\n",
       "      <td>171.0</td>\n",
       "    </tr>\n",
       "  </tbody>\n",
       "</table>\n",
       "</div>"
      ],
      "text/plain": [
       "        id  num_orders\n",
       "0  1028232       175.0\n",
       "1  1262649       174.0\n",
       "2  1453211       173.0\n",
       "3  1262599       174.0\n",
       "4  1495848       171.0"
      ]
     },
     "execution_count": 34,
     "metadata": {},
     "output_type": "execute_result"
    }
   ],
   "source": [
    "submission.head()"
   ]
  },
  {
   "cell_type": "code",
   "execution_count": 1,
   "metadata": {},
   "outputs": [],
   "source": [
    "### A weighted avg was finally used"
   ]
  },
  {
   "cell_type": "code",
   "execution_count": null,
   "metadata": {},
   "outputs": [],
   "source": []
  }
 ],
 "metadata": {
  "kernelspec": {
   "display_name": "Python 2",
   "language": "python",
   "name": "python2"
  },
  "language_info": {
   "codemirror_mode": {
    "name": "ipython",
    "version": 2
   },
   "file_extension": ".py",
   "mimetype": "text/x-python",
   "name": "python",
   "nbconvert_exporter": "python",
   "pygments_lexer": "ipython2",
   "version": "2.7.15+"
  }
 },
 "nbformat": 4,
 "nbformat_minor": 2
}
